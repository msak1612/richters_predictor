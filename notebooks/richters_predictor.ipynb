{
 "cells": [
  {
   "cell_type": "code",
   "execution_count": 1,
   "id": "ec241685",
   "metadata": {},
   "outputs": [],
   "source": [
    "import numpy as np\n",
    "import pandas as pd\n",
    "import matplotlib.pyplot as plt \n",
    "import plotly.express as px"
   ]
  },
  {
   "cell_type": "code",
   "execution_count": 2,
   "id": "a1214b91",
   "metadata": {},
   "outputs": [],
   "source": [
    "data_file = \"../data/raw/train_values.csv\"\n",
    "labels_file = \"../data/raw/train_labels.csv\""
   ]
  },
  {
   "cell_type": "code",
   "execution_count": 3,
   "id": "faf293bd",
   "metadata": {},
   "outputs": [],
   "source": [
    "#Collecting Data\n",
    "\n",
    "df1 = pd.read_csv(data_file)\n",
    "df2 = pd.read_csv(labels_file)"
   ]
  },
  {
   "cell_type": "code",
   "execution_count": 4,
   "id": "42a6f157",
   "metadata": {},
   "outputs": [
    {
     "data": {
      "text/plain": [
       "(260601, 39)"
      ]
     },
     "execution_count": 4,
     "metadata": {},
     "output_type": "execute_result"
    }
   ],
   "source": [
    "df1.shape"
   ]
  },
  {
   "cell_type": "code",
   "execution_count": 5,
   "id": "fea03813",
   "metadata": {},
   "outputs": [
    {
     "data": {
      "text/plain": [
       "(260601, 2)"
      ]
     },
     "execution_count": 5,
     "metadata": {},
     "output_type": "execute_result"
    }
   ],
   "source": [
    "df2.shape"
   ]
  },
  {
   "cell_type": "markdown",
   "id": "798f48e6",
   "metadata": {},
   "source": [
    "## 3. Data Cleaning\n",
    "\n",
    "* Remove irrelevant observations (observations need to be specific to the problem you are solving)\n",
    "* Address missing values (e.g. Imputation techniques, drop features/observations)\n",
    "* Reformat data types (e.g. boolean, numeric, Datetime)\n",
    "* Filter unwanted outliers (if you have a legitimate reason)\n",
    "* Reformat strings (e.g. remove white spaces, mislabeled/misspelt categories)\n",
    "* Validate (does the data make sense? does the data adhere to the defined business rules? )"
   ]
  },
  {
   "cell_type": "code",
   "execution_count": 6,
   "id": "963887a4",
   "metadata": {},
   "outputs": [
    {
     "data": {
      "text/plain": [
       "False"
      ]
     },
     "execution_count": 6,
     "metadata": {},
     "output_type": "execute_result"
    }
   ],
   "source": [
    "#checks whether feature and target dataset contains any NaN's in its rows or columns\n",
    "\n",
    "df1.isnull().any().any() & df2.isnull().any().any()"
   ]
  },
  {
   "cell_type": "code",
   "execution_count": 7,
   "id": "e17fe935",
   "metadata": {},
   "outputs": [],
   "source": [
    "#merges feature and target dataset\n",
    "\n",
    "df=pd.merge(df1, df2, on='building_id', how='inner')"
   ]
  },
  {
   "cell_type": "code",
   "execution_count": 8,
   "id": "49e4479b",
   "metadata": {},
   "outputs": [
    {
     "data": {
      "text/plain": [
       "(260601, 40)"
      ]
     },
     "execution_count": 8,
     "metadata": {},
     "output_type": "execute_result"
    }
   ],
   "source": [
    "df.shape"
   ]
  },
  {
   "cell_type": "code",
   "execution_count": 9,
   "id": "e1bf3353",
   "metadata": {},
   "outputs": [],
   "source": [
    "# Variance threshold based feature removals - removes all low-variance features.\n",
    "\n",
    "from sklearn.feature_selection import VarianceThreshold\n",
    "from sklearn.preprocessing import LabelEncoder\n",
    "\n",
    "encoder = LabelEncoder()\n",
    "\n",
    "encode_cols = df.select_dtypes(exclude=np.number).columns.tolist()\n",
    "for col in encode_cols:\n",
    "    df[col] = encoder.fit_transform(df[col])\n",
    "\n",
    "threshold_n = 0.95\n",
    "vt = VarianceThreshold(threshold=(threshold_n*(1 - threshold_n)))\n",
    "vt.fit(df)\n",
    "df = df[df.columns[vt.get_support(indices=True)]]"
   ]
  },
  {
   "cell_type": "code",
   "execution_count": 10,
   "id": "5868b9be",
   "metadata": {},
   "outputs": [],
   "source": [
    "#drop columns that are not necessary for predictions\n",
    "\n",
    "columns_to_drop = ['building_id']\n",
    "df = df.drop(columns_to_drop, axis=1)\n",
    "#df = df[df.columns.drop(list(df.filter(regex='^has_')))]"
   ]
  },
  {
   "cell_type": "code",
   "execution_count": 11,
   "id": "f08cd8a1",
   "metadata": {},
   "outputs": [],
   "source": [
    "#assigning feature and target values\n",
    "\n",
    "X = df.iloc[:, :-1]\n",
    "y = df.iloc[:, -1]"
   ]
  },
  {
   "cell_type": "code",
   "execution_count": 12,
   "id": "716d5d48",
   "metadata": {},
   "outputs": [
    {
     "name": "stdout",
     "output_type": "stream",
     "text": [
      "(208480, 24)\n",
      "(208480,)\n",
      "(52121, 24)\n",
      "(52121,)\n"
     ]
    },
    {
     "data": {
      "text/plain": [
       "(None, None)"
      ]
     },
     "execution_count": 12,
     "metadata": {},
     "output_type": "execute_result"
    }
   ],
   "source": [
    "from sklearn.model_selection import train_test_split\n",
    "\n",
    "X_train, X_test, y_train, y_test = train_test_split(X, y, test_size=0.20, random_state=42)\n",
    "print(X_train.shape), print(y_train.shape)\n",
    "print(X_test.shape), print(y_test.shape)"
   ]
  },
  {
   "cell_type": "code",
   "execution_count": 13,
   "id": "1edd082b",
   "metadata": {},
   "outputs": [
    {
     "data": {
      "text/plain": [
       "<AxesSubplot:>"
      ]
     },
     "execution_count": 13,
     "metadata": {},
     "output_type": "execute_result"
    },
    {
     "data": {
      "image/png": "[encoded data removed]",
      "text/plain": [
       "<Figure size 432x288 with 1 Axes>"
      ]
     },
     "metadata": {
      "needs_background": "light"
     },
     "output_type": "display_data"
    }
   ],
   "source": [
    "from sklearn.ensemble import RandomForestClassifier\n",
    "\n",
    "clf = RandomForestClassifier(random_state=42)\n",
    "clf.fit(X_train, y_train)\n",
    "feat_importances = pd.Series(clf.feature_importances_, index=X_train.columns)\n",
    "feat_importances.sort_values(ascending=False).plot(kind='barh')"
   ]
  },
  {
   "cell_type": "code",
   "execution_count": 14,
   "id": "1a09445a",
   "metadata": {},
   "outputs": [
    {
     "data": {
      "text/plain": [
       "0.6646888963412937"
      ]
     },
     "execution_count": 14,
     "metadata": {},
     "output_type": "execute_result"
    }
   ],
   "source": [
    "from sklearn.metrics import f1_score\n",
    "\n",
    "y_pred = clf.predict(X_test)\n",
    "f1_score(y_test, y_pred, average='macro')"
   ]
  },
  {
   "cell_type": "code",
   "execution_count": 15,
   "id": "481d6d0c",
   "metadata": {},
   "outputs": [],
   "source": [
    "import category_encoders as ce\n",
    "from sklearn.pipeline import Pipeline\n",
    "import lightgbm as lgb"
   ]
  },
  {
   "cell_type": "code",
   "execution_count": 16,
   "id": "576f89ff",
   "metadata": {},
   "outputs": [],
   "source": [
    "#encoding\n",
    "#instantiate the encoders\n",
    "\n",
    "one_hot = ce.OneHotEncoder(cols=['land_surface_condition','foundation_type','roof_type','ground_floor_type',\n",
    "'other_floor_type','position','plan_configuration','legal_ownership_status'])"
   ]
  },
  {
   "cell_type": "code",
   "execution_count": 17,
   "id": "7a059ad7",
   "metadata": {},
   "outputs": [],
   "source": [
    "#build a pipeline for gradient boosting\n",
    "\n",
    "lgbc = lgb.LGBMClassifier(learning_rate=0.1,n_estimators=1000,max_depth=5,num_leaves=50,n_jobs=-1)\n",
    "\n",
    "#build a pipeline\n",
    "pipe_gb = Pipeline([('one_hot', one_hot),\n",
    "                   ('gradient_boosting',lgbc)])"
   ]
  },
  {
   "cell_type": "code",
   "execution_count": null,
   "id": "d53a4b35",
   "metadata": {},
   "outputs": [
    {
     "name": "stderr",
     "output_type": "stream",
     "text": [
      "/Users/madhuri/opt/anaconda3/lib/python3.9/site-packages/category_encoders/utils.py:21: FutureWarning: is_categorical is deprecated and will be removed in a future version.  Use is_categorical_dtype instead\n",
      "  elif pd.api.types.is_categorical(cols):\n"
     ]
    }
   ],
   "source": [
    "#fit the model\n",
    "pipe_gb.fit(X_train,y_train)\n",
    "\n",
    "preds_gb = pipe_gb.predict(X_test)\n",
    "\n",
    "#test the model\n",
    "f1_score(y_test,preds_gb,average='macro')"
   ]
  },
  {
   "cell_type": "code",
   "execution_count": null,
   "id": "034a779d",
   "metadata": {},
   "outputs": [],
   "source": []
  },
  {
   "cell_type": "code",
   "execution_count": null,
   "id": "30a98e93",
   "metadata": {},
   "outputs": [],
   "source": []
  }
 ],
 "metadata": {
  "kernelspec": {
   "display_name": "Python 3 (ipykernel)",
   "language": "python",
   "name": "python3"
  },
  "language_info": {
   "codemirror_mode": {
    "name": "ipython",
    "version": 3
   },
   "file_extension": ".py",
   "mimetype": "text/x-python",
   "name": "python",
   "nbconvert_exporter": "python",
   "pygments_lexer": "ipython3",
   "version": "3.9.7"
  }
 },
 "nbformat": 4,
 "nbformat_minor": 5
}
